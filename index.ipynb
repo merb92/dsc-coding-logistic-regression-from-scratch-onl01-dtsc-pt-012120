{
 "cells": [
  {
   "cell_type": "markdown",
   "metadata": {},
   "source": [
    "# Coding Logistic Regression From Scratch - Lab\n",
    "\n",
    "## Introduction\n",
    "\n",
    "In this lab, you'll practice your ability to translate mathematical algorithms into Python functions. This will deepen and solidify your understanding of logistic regression!\n",
    "\n",
    "## Objectives\n",
    "\n",
    "In this lab you will: \n",
    "\n",
    "- Build a logistic regression model from scratch using gradient descent "
   ]
  },
  {
   "cell_type": "markdown",
   "metadata": {},
   "source": [
    "## Overview\n",
    "\n",
    "Recall that the logistic regression algorithm builds upon the intuition from linear regression. In logistic regression, you start by taking the input data, `X`, and multiplying it by a vector of weights for each of the individual features, which produces an output, `y`. Afterward, you'll work on using an iterative approach via gradient descent to tune these weights. "
   ]
  },
  {
   "cell_type": "markdown",
   "metadata": {},
   "source": [
    "## Linear regression setup\n",
    "\n",
    "Write a simple function `predict_y()` that takes in a matrix `X` of observations and a vector of feature weights `w` and outputs a vector of predictions for the various observations.\n",
    "\n",
    "Recall that this is the sum of the product of each of the feature observations and their corresponding feature weights:  \n",
    "  \n",
    "$\\large \\hat{y}_i = X_{i1} \\cdot w_1 + X_{i2} \\cdot w_2 + X_{i3} \\cdot w_3 + ... + X_{in} \\cdot w_n$\n",
    "\n",
    "> **Hint**: Think about which mathematical operation you've seen previously that will take a matrix (`X`) and multiply it by a vector of weights (`w`). Use NumPy! "
   ]
  },
  {
   "cell_type": "code",
   "execution_count": 50,
   "metadata": {
    "ExecuteTime": {
     "end_time": "2020-06-05T18:09:13.896289Z",
     "start_time": "2020-06-05T18:09:13.892112Z"
    }
   },
   "outputs": [],
   "source": [
    "# Your code here\n",
    "import numpy as np\n",
    "\n",
    "def predict_y(X, w):\n",
    "    # ensure parameters are np.arrays\n",
    "    return np.dot(X,w)"
   ]
  },
  {
   "cell_type": "markdown",
   "metadata": {},
   "source": [
    "## The sigmoid function\n",
    "\n",
    "Recall that the sigmoid function is used to map the linear regression model output to a range of 0 to 1, satisfying basic premises of probability. As a reminder, the sigmoid function is defined by:  \n",
    "  \n",
    "$S(x) = \\dfrac{1}{1+e^(-x)}$   \n",
    "  \n",
    "Write this as a Python function where `x` is the input and the function outputs the result of the sigmoid function. \n",
    "\n",
    "> **Hint**: Use NumPy!"
   ]
  },
  {
   "cell_type": "code",
   "execution_count": 72,
   "metadata": {
    "ExecuteTime": {
     "end_time": "2020-06-05T18:29:51.773090Z",
     "start_time": "2020-06-05T18:29:51.768664Z"
    }
   },
   "outputs": [],
   "source": [
    "# Your code here\n",
    "def sigmoid(x):\n",
    "    x = np.array(x)\n",
    "    return 1 / (1 + np.e**(-x))"
   ]
  },
  {
   "cell_type": "markdown",
   "metadata": {},
   "source": [
    "## Plot the sigmoid\n",
    "\n",
    "For good measure, let's do a brief investigation of your new function. Plot the output of your `sigmoid()` function using 10,000 values evenly spaced from -20 to 20. "
   ]
  },
  {
   "cell_type": "code",
   "execution_count": 54,
   "metadata": {
    "ExecuteTime": {
     "end_time": "2020-06-05T18:11:34.191406Z",
     "start_time": "2020-06-05T18:11:33.851981Z"
    }
   },
   "outputs": [
    {
     "data": {
      "text/plain": [
       "<matplotlib.collections.PathCollection at 0x117e7ec50>"
      ]
     },
     "execution_count": 54,
     "metadata": {},
     "output_type": "execute_result"
    },
    {
     "data": {
      "image/png": "[encoded data removed]",
      "text/plain": [
       "<Figure size 432x288 with 1 Axes>"
      ]
     },
     "metadata": {
      "needs_background": "light"
     },
     "output_type": "display_data"
    }
   ],
   "source": [
    "import matplotlib.pyplot as plt\n",
    "%matplotlib inline\n",
    "\n",
    "x = np.linspace(start=-20, stop=20, num = 10**4)\n",
    "\n",
    "# Plot sigmoid\n",
    "plt.scatter(x, sigmoid(x))\n"
   ]
  },
  {
   "cell_type": "markdown",
   "metadata": {},
   "source": [
    "## Gradient descent with the sigmoid function\n",
    "\n",
    "Recall that gradient descent is a numerical method for finding a minimum to a cost function. In the case of logistic regression, you are looking to minimize the error between the model's predictions and the actual data labels. To do this,  \n",
    "* you first calculate an error vector based on the current model's feature weights. \n",
    "* You then multiply the transpose of the training matrix itself by this error vector in order to obtain the gradient. \n",
    "* Finally, you take the gradient, multiply it by the step size and add this to our current weight vector to update it. \n",
    "\n",
    "Below, write such a function. It will take 5 inputs:  \n",
    "\n",
    "* `X`  \n",
    "* `y`   \n",
    "* `max_iterations`   \n",
    "* `alpha` (the step size)   \n",
    "* `initial_weights`   \n",
    "\n",
    "\n",
    "By default, have your function set the `initial_weights` parameter to a vector where all feature weights are set to 1. "
   ]
  },
  {
   "cell_type": "code",
   "execution_count": 64,
   "metadata": {
    "ExecuteTime": {
     "end_time": "2020-06-05T18:18:45.660000Z",
     "start_time": "2020-06-05T18:18:45.652437Z"
    }
   },
   "outputs": [],
   "source": [
    "# Your code here\n",
    "def grad_desc(X, y, max_iterations, alpha, initial_weights=None):\n",
    "    \"\"\"Be sure to set default behavior for the initial_weights parameter.\"\"\"\n",
    " \n",
    "    weights_df = pd.DataFrame(initial_weights)\n",
    "    new_weights = initial_weights\n",
    "    # Create a for loop of iterations\n",
    "    for i in range(max_iterations):\n",
    "        # Generate predictions using the current feature weights\n",
    "#         y_hat = X.apply(lambda x : predict_y(x, new_weights), axis=1)\n",
    "        y_hat = sigmoid(predict_y(X,new_weights))\n",
    "        # Calculate an error vector based on these initial predictions and the correct labels\n",
    "        error_vector = y - y_hat\n",
    "        \n",
    "        # Calculate the gradient\n",
    "        # As we saw in the previous lab, calculating the gradient is often the most difficult task.\n",
    "        # Here, your are provided with the closed form solution for the gradient of the log-loss function derived from MLE\n",
    "        # For more details on the derivation, see the additional resources section below.\n",
    "        gradient = np.dot(X.transpose(), error_vector) \n",
    "        \n",
    "        # Update the weight vector take a step of alpha in direction of gradient\n",
    "        new_weights = new_weights + (alpha * gradient)\n",
    "        weights_df = pd.concat([weights_df, pd.DataFrame(new_weights)], axis=1)\n",
    "    # Return finalized weights\n",
    "    return new_weights, weights_df"
   ]
  },
  {
   "cell_type": "markdown",
   "metadata": {},
   "source": [
    "## Running your algorithm\n",
    "\n",
    "Now that you've coded everything from the ground up, you can further investigate the convergence behavior of the gradient descent algorithm. Remember that gradient descent does not guarantee a global minimum, only a local minimum, and that small deviations in the starting point or step size can lead to different outputs.  \n",
    "  \n",
    "First, run the following cell to import the data and create the predictor and target variables: "
   ]
  },
  {
   "cell_type": "code",
   "execution_count": 36,
   "metadata": {
    "ExecuteTime": {
     "end_time": "2020-06-05T17:57:18.173199Z",
     "start_time": "2020-06-05T17:57:18.138380Z"
    }
   },
   "outputs": [
    {
     "name": "stdout",
     "output_type": "stream",
     "text": [
      "1.0    165\n",
      "0.0    138\n",
      "Name: target, dtype: int64\n"
     ]
    },
    {
     "data": {
      "text/html": [
       "<div>\n",
       "<style scoped>\n",
       "    .dataframe tbody tr th:only-of-type {\n",
       "        vertical-align: middle;\n",
       "    }\n",
       "\n",
       "    .dataframe tbody tr th {\n",
       "        vertical-align: top;\n",
       "    }\n",
       "\n",
       "    .dataframe thead th {\n",
       "        text-align: right;\n",
       "    }\n",
       "</style>\n",
       "<table border=\"1\" class=\"dataframe\">\n",
       "  <thead>\n",
       "    <tr style=\"text-align: right;\">\n",
       "      <th></th>\n",
       "      <th>age</th>\n",
       "      <th>sex</th>\n",
       "      <th>cp</th>\n",
       "      <th>trestbps</th>\n",
       "      <th>chol</th>\n",
       "      <th>fbs</th>\n",
       "      <th>restecg</th>\n",
       "      <th>thalach</th>\n",
       "      <th>exang</th>\n",
       "      <th>oldpeak</th>\n",
       "      <th>slope</th>\n",
       "      <th>ca</th>\n",
       "      <th>thal</th>\n",
       "    </tr>\n",
       "  </thead>\n",
       "  <tbody>\n",
       "    <tr>\n",
       "      <td>0</td>\n",
       "      <td>0.708333</td>\n",
       "      <td>1.0</td>\n",
       "      <td>1.000000</td>\n",
       "      <td>0.481132</td>\n",
       "      <td>0.244292</td>\n",
       "      <td>1.0</td>\n",
       "      <td>0.0</td>\n",
       "      <td>0.603053</td>\n",
       "      <td>0.0</td>\n",
       "      <td>0.370968</td>\n",
       "      <td>0.0</td>\n",
       "      <td>0.0</td>\n",
       "      <td>0.333333</td>\n",
       "    </tr>\n",
       "    <tr>\n",
       "      <td>1</td>\n",
       "      <td>0.166667</td>\n",
       "      <td>1.0</td>\n",
       "      <td>0.666667</td>\n",
       "      <td>0.339623</td>\n",
       "      <td>0.283105</td>\n",
       "      <td>0.0</td>\n",
       "      <td>0.5</td>\n",
       "      <td>0.885496</td>\n",
       "      <td>0.0</td>\n",
       "      <td>0.564516</td>\n",
       "      <td>0.0</td>\n",
       "      <td>0.0</td>\n",
       "      <td>0.666667</td>\n",
       "    </tr>\n",
       "    <tr>\n",
       "      <td>2</td>\n",
       "      <td>0.250000</td>\n",
       "      <td>0.0</td>\n",
       "      <td>0.333333</td>\n",
       "      <td>0.339623</td>\n",
       "      <td>0.178082</td>\n",
       "      <td>0.0</td>\n",
       "      <td>0.0</td>\n",
       "      <td>0.770992</td>\n",
       "      <td>0.0</td>\n",
       "      <td>0.225806</td>\n",
       "      <td>1.0</td>\n",
       "      <td>0.0</td>\n",
       "      <td>0.666667</td>\n",
       "    </tr>\n",
       "    <tr>\n",
       "      <td>3</td>\n",
       "      <td>0.562500</td>\n",
       "      <td>1.0</td>\n",
       "      <td>0.333333</td>\n",
       "      <td>0.245283</td>\n",
       "      <td>0.251142</td>\n",
       "      <td>0.0</td>\n",
       "      <td>0.5</td>\n",
       "      <td>0.816794</td>\n",
       "      <td>0.0</td>\n",
       "      <td>0.129032</td>\n",
       "      <td>1.0</td>\n",
       "      <td>0.0</td>\n",
       "      <td>0.666667</td>\n",
       "    </tr>\n",
       "    <tr>\n",
       "      <td>4</td>\n",
       "      <td>0.583333</td>\n",
       "      <td>0.0</td>\n",
       "      <td>0.000000</td>\n",
       "      <td>0.245283</td>\n",
       "      <td>0.520548</td>\n",
       "      <td>0.0</td>\n",
       "      <td>0.5</td>\n",
       "      <td>0.702290</td>\n",
       "      <td>1.0</td>\n",
       "      <td>0.096774</td>\n",
       "      <td>1.0</td>\n",
       "      <td>0.0</td>\n",
       "      <td>0.666667</td>\n",
       "    </tr>\n",
       "  </tbody>\n",
       "</table>\n",
       "</div>"
      ],
      "text/plain": [
       "        age  sex        cp  trestbps      chol  fbs  restecg   thalach  exang  \\\n",
       "0  0.708333  1.0  1.000000  0.481132  0.244292  1.0      0.0  0.603053    0.0   \n",
       "1  0.166667  1.0  0.666667  0.339623  0.283105  0.0      0.5  0.885496    0.0   \n",
       "2  0.250000  0.0  0.333333  0.339623  0.178082  0.0      0.0  0.770992    0.0   \n",
       "3  0.562500  1.0  0.333333  0.245283  0.251142  0.0      0.5  0.816794    0.0   \n",
       "4  0.583333  0.0  0.000000  0.245283  0.520548  0.0      0.5  0.702290    1.0   \n",
       "\n",
       "    oldpeak  slope   ca      thal  \n",
       "0  0.370968    0.0  0.0  0.333333  \n",
       "1  0.564516    0.0  0.0  0.666667  \n",
       "2  0.225806    1.0  0.0  0.666667  \n",
       "3  0.129032    1.0  0.0  0.666667  \n",
       "4  0.096774    1.0  0.0  0.666667  "
      ]
     },
     "execution_count": 36,
     "metadata": {},
     "output_type": "execute_result"
    }
   ],
   "source": [
    "# Import data\n",
    "import pandas as pd\n",
    "df = pd.read_csv('heart.csv')\n",
    "\n",
    "# Create the predictor and target variables\n",
    "y = df['target']\n",
    "X = df.drop(columns=['target'], axis=1)\n",
    "\n",
    "print(y.value_counts())\n",
    "X.head()"
   ]
  },
  {
   "cell_type": "markdown",
   "metadata": {},
   "source": [
    "* Run your algorithm and plot the successive weights of the features through iterations. \n",
    "* Below is a dataset, with `X` and `y` predefined for you. \n",
    "* Use your logistic regression function to train a model. \n",
    "* As the model trains, record the iteration cycle of the gradient descent algorithm and the weights of the various features. \n",
    "* Then, plot this data on subplots for each of the individual features. Each graph should have the iteration number on the x-axis and the value of that feature weight for that iteration cycle on the y-axis. \n",
    "* This will visually display how the algorithm is adjusting the weights over successive iterations, and hopefully show convergence to stable weights."
   ]
  },
  {
   "cell_type": "code",
   "execution_count": 80,
   "metadata": {
    "ExecuteTime": {
     "end_time": "2020-06-05T18:36:30.495129Z",
     "start_time": "2020-06-05T18:36:04.822135Z"
    }
   },
   "outputs": [
    {
     "data": {
      "text/html": [
       "<div>\n",
       "<style scoped>\n",
       "    .dataframe tbody tr th:only-of-type {\n",
       "        vertical-align: middle;\n",
       "    }\n",
       "\n",
       "    .dataframe tbody tr th {\n",
       "        vertical-align: top;\n",
       "    }\n",
       "\n",
       "    .dataframe thead th {\n",
       "        text-align: right;\n",
       "    }\n",
       "</style>\n",
       "<table border=\"1\" class=\"dataframe\">\n",
       "  <thead>\n",
       "    <tr style=\"text-align: right;\">\n",
       "      <th></th>\n",
       "      <th>0</th>\n",
       "      <th>1</th>\n",
       "      <th>2</th>\n",
       "      <th>3</th>\n",
       "      <th>4</th>\n",
       "      <th>5</th>\n",
       "      <th>6</th>\n",
       "      <th>7</th>\n",
       "      <th>8</th>\n",
       "      <th>9</th>\n",
       "      <th>...</th>\n",
       "      <th>9991</th>\n",
       "      <th>9992</th>\n",
       "      <th>9993</th>\n",
       "      <th>9994</th>\n",
       "      <th>9995</th>\n",
       "      <th>9996</th>\n",
       "      <th>9997</th>\n",
       "      <th>9998</th>\n",
       "      <th>9999</th>\n",
       "      <th>10000</th>\n",
       "    </tr>\n",
       "  </thead>\n",
       "  <tbody>\n",
       "    <tr>\n",
       "      <td>0</td>\n",
       "      <td>1</td>\n",
       "      <td>0.921824</td>\n",
       "      <td>0.844091</td>\n",
       "      <td>0.766977</td>\n",
       "      <td>0.690725</td>\n",
       "      <td>0.615666</td>\n",
       "      <td>0.542248</td>\n",
       "      <td>0.471051</td>\n",
       "      <td>0.402792</td>\n",
       "      <td>0.338294</td>\n",
       "      <td>...</td>\n",
       "      <td>0.780181</td>\n",
       "      <td>0.780192</td>\n",
       "      <td>0.780203</td>\n",
       "      <td>0.780213</td>\n",
       "      <td>0.780224</td>\n",
       "      <td>0.780235</td>\n",
       "      <td>0.780246</td>\n",
       "      <td>0.780256</td>\n",
       "      <td>0.780267</td>\n",
       "      <td>0.780278</td>\n",
       "    </tr>\n",
       "    <tr>\n",
       "      <td>1</td>\n",
       "      <td>1</td>\n",
       "      <td>0.886965</td>\n",
       "      <td>0.774398</td>\n",
       "      <td>0.662523</td>\n",
       "      <td>0.551665</td>\n",
       "      <td>0.442287</td>\n",
       "      <td>0.335031</td>\n",
       "      <td>0.230757</td>\n",
       "      <td>0.130552</td>\n",
       "      <td>0.035687</td>\n",
       "      <td>...</td>\n",
       "      <td>-1.601634</td>\n",
       "      <td>-1.601638</td>\n",
       "      <td>-1.601641</td>\n",
       "      <td>-1.601645</td>\n",
       "      <td>-1.601648</td>\n",
       "      <td>-1.601651</td>\n",
       "      <td>-1.601655</td>\n",
       "      <td>-1.601658</td>\n",
       "      <td>-1.601662</td>\n",
       "      <td>-1.601665</td>\n",
       "    </tr>\n",
       "    <tr>\n",
       "      <td>2</td>\n",
       "      <td>1</td>\n",
       "      <td>0.978665</td>\n",
       "      <td>0.957571</td>\n",
       "      <td>0.936807</td>\n",
       "      <td>0.916498</td>\n",
       "      <td>0.896810</td>\n",
       "      <td>0.877964</td>\n",
       "      <td>0.860242</td>\n",
       "      <td>0.843990</td>\n",
       "      <td>0.829602</td>\n",
       "      <td>...</td>\n",
       "      <td>2.617718</td>\n",
       "      <td>2.617718</td>\n",
       "      <td>2.617718</td>\n",
       "      <td>2.617719</td>\n",
       "      <td>2.617719</td>\n",
       "      <td>2.617719</td>\n",
       "      <td>2.617719</td>\n",
       "      <td>2.617720</td>\n",
       "      <td>2.617720</td>\n",
       "      <td>2.617720</td>\n",
       "    </tr>\n",
       "    <tr>\n",
       "      <td>3</td>\n",
       "      <td>1</td>\n",
       "      <td>0.948142</td>\n",
       "      <td>0.896567</td>\n",
       "      <td>0.845390</td>\n",
       "      <td>0.794768</td>\n",
       "      <td>0.744918</td>\n",
       "      <td>0.696134</td>\n",
       "      <td>0.648794</td>\n",
       "      <td>0.603371</td>\n",
       "      <td>0.560406</td>\n",
       "      <td>...</td>\n",
       "      <td>-1.951894</td>\n",
       "      <td>-1.951900</td>\n",
       "      <td>-1.951906</td>\n",
       "      <td>-1.951912</td>\n",
       "      <td>-1.951919</td>\n",
       "      <td>-1.951925</td>\n",
       "      <td>-1.951931</td>\n",
       "      <td>-1.951937</td>\n",
       "      <td>-1.951943</td>\n",
       "      <td>-1.951949</td>\n",
       "    </tr>\n",
       "    <tr>\n",
       "      <td>4</td>\n",
       "      <td>1</td>\n",
       "      <td>0.961222</td>\n",
       "      <td>0.922681</td>\n",
       "      <td>0.884469</td>\n",
       "      <td>0.846715</td>\n",
       "      <td>0.809593</td>\n",
       "      <td>0.773338</td>\n",
       "      <td>0.738251</td>\n",
       "      <td>0.704703</td>\n",
       "      <td>0.673119</td>\n",
       "      <td>...</td>\n",
       "      <td>-1.393193</td>\n",
       "      <td>-1.393228</td>\n",
       "      <td>-1.393264</td>\n",
       "      <td>-1.393299</td>\n",
       "      <td>-1.393334</td>\n",
       "      <td>-1.393369</td>\n",
       "      <td>-1.393404</td>\n",
       "      <td>-1.393440</td>\n",
       "      <td>-1.393475</td>\n",
       "      <td>-1.393510</td>\n",
       "    </tr>\n",
       "  </tbody>\n",
       "</table>\n",
       "<p>5 rows × 10001 columns</p>\n",
       "</div>"
      ],
      "text/plain": [
       "   0         1         2         3         4         5         6      \\\n",
       "0      1  0.921824  0.844091  0.766977  0.690725  0.615666  0.542248   \n",
       "1      1  0.886965  0.774398  0.662523  0.551665  0.442287  0.335031   \n",
       "2      1  0.978665  0.957571  0.936807  0.916498  0.896810  0.877964   \n",
       "3      1  0.948142  0.896567  0.845390  0.794768  0.744918  0.696134   \n",
       "4      1  0.961222  0.922681  0.884469  0.846715  0.809593  0.773338   \n",
       "\n",
       "      7         8         9      ...     9991      9992      9993      9994   \\\n",
       "0  0.471051  0.402792  0.338294  ...  0.780181  0.780192  0.780203  0.780213   \n",
       "1  0.230757  0.130552  0.035687  ... -1.601634 -1.601638 -1.601641 -1.601645   \n",
       "2  0.860242  0.843990  0.829602  ...  2.617718  2.617718  2.617718  2.617719   \n",
       "3  0.648794  0.603371  0.560406  ... -1.951894 -1.951900 -1.951906 -1.951912   \n",
       "4  0.738251  0.704703  0.673119  ... -1.393193 -1.393228 -1.393264 -1.393299   \n",
       "\n",
       "      9995      9996      9997      9998      9999      10000  \n",
       "0  0.780224  0.780235  0.780246  0.780256  0.780267  0.780278  \n",
       "1 -1.601648 -1.601651 -1.601655 -1.601658 -1.601662 -1.601665  \n",
       "2  2.617719  2.617719  2.617719  2.617720  2.617720  2.617720  \n",
       "3 -1.951919 -1.951925 -1.951931 -1.951937 -1.951943 -1.951949  \n",
       "4 -1.393334 -1.393369 -1.393404 -1.393440 -1.393475 -1.393510  \n",
       "\n",
       "[5 rows x 10001 columns]"
      ]
     },
     "metadata": {},
     "output_type": "display_data"
    },
    {
     "data": {
      "image/png": "[encoded data removed]",
      "text/plain": [
       "<Figure size 1152x864 with 13 Axes>"
      ]
     },
     "metadata": {
      "needs_background": "light"
     },
     "output_type": "display_data"
    }
   ],
   "source": [
    "# Your code here\n",
    "weights, weights_df = grad_desc(X, y, 10**4, 10**-3, initial_weights=np.array([1]*len(X.columns)))\n",
    "weights_df.columns = np.arange(len(weights_df.columns))\n",
    "\n",
    "display(weights_df.head())\n",
    "\n",
    "plt.figure(figsize=(16,12))\n",
    "\n",
    "for i, weight in enumerate(weights):\n",
    "    plt.subplot(3, 5, i+1)\n",
    "    plt.title(X.columns[i])\n",
    "    plt.plot(weights_df.iloc[i].T)\n",
    "    plt.axis('tight')"
   ]
  },
  {
   "cell_type": "markdown",
   "metadata": {},
   "source": [
    "## Scikit-learn\n",
    "\n",
    "For comparison, import scikit-learn's standard `LogisticRegression()` function. Initialize it with **no intercept** and **C=1e16** or another very high number. The reason is as follows: our implementation has not used an intercept, and you have not performed any regularization such as Lasso or Ridge (scikit-learn uses l2 by default). The high value of `C` will essentially negate this. Also, set the `random_state` to 2 and use the `'liblinear'` solver. \n",
    "\n",
    "After initializing a regression object, fit it to `X` and `y`."
   ]
  },
  {
   "cell_type": "code",
   "execution_count": 82,
   "metadata": {
    "ExecuteTime": {
     "end_time": "2020-06-05T18:39:00.608263Z",
     "start_time": "2020-06-05T18:38:54.168681Z"
    }
   },
   "outputs": [],
   "source": [
    "# Your code here\n",
    "from sklearn.linear_model import LogisticRegression"
   ]
  },
  {
   "cell_type": "code",
   "execution_count": 85,
   "metadata": {
    "ExecuteTime": {
     "end_time": "2020-06-05T18:40:31.851618Z",
     "start_time": "2020-06-05T18:40:31.841676Z"
    }
   },
   "outputs": [
    {
     "data": {
      "text/plain": [
       "array([[ 0.81221467, -1.61293693,  2.6179496 , -1.96887354, -1.50936862,\n",
       "         0.05688225,  1.1521945 ,  4.42098698, -0.83027951, -2.74686109,\n",
       "         1.45580368, -3.115599  , -2.19130405]])"
      ]
     },
     "execution_count": 85,
     "metadata": {},
     "output_type": "execute_result"
    }
   ],
   "source": [
    "logreg = LogisticRegression(fit_intercept=False, C=1e16, solver='liblinear', random_state=2)\n",
    "model = logreg.fit(X, y)\n"
   ]
  },
  {
   "cell_type": "markdown",
   "metadata": {},
   "source": [
    "## Compare the models\n",
    "\n",
    "Compare the coefficient weights of your model to that generated by scikit-learn."
   ]
  },
  {
   "cell_type": "code",
   "execution_count": 86,
   "metadata": {
    "ExecuteTime": {
     "end_time": "2020-06-05T18:41:04.956550Z",
     "start_time": "2020-06-05T18:41:04.950515Z"
    }
   },
   "outputs": [
    {
     "name": "stdout",
     "output_type": "stream",
     "text": [
      "[ 0.7802778  -1.601665    2.61772008 -1.95194946 -1.39350985  0.05818755\n",
      "  1.15984037  4.36925075 -0.83136019 -2.75080939  1.45778904 -3.10796257\n",
      " -2.19158082]\n",
      "\n",
      "[[ 0.81221467 -1.61293693  2.6179496  -1.96887354 -1.50936862  0.05688225\n",
      "   1.1521945   4.42098698 -0.83027951 -2.74686109  1.45580368 -3.115599\n",
      "  -2.19130405]]\n"
     ]
    }
   ],
   "source": [
    "# Your code here\n",
    "print(weights)\n",
    "print('')\n",
    "\n",
    "print(model.coef_)"
   ]
  },
  {
   "cell_type": "code",
   "execution_count": 87,
   "metadata": {
    "ExecuteTime": {
     "end_time": "2020-06-05T18:43:49.351934Z",
     "start_time": "2020-06-05T18:43:49.348609Z"
    }
   },
   "outputs": [],
   "source": [
    "# they're pretty close"
   ]
  },
  {
   "cell_type": "markdown",
   "metadata": {},
   "source": [
    "## Level up (Optional)\n",
    "\n",
    "Update the gradient descent algorithm to also return the cost after each iteration. Then rerun the algorithm and create a graph displaying the cost versus the iteration number."
   ]
  },
  {
   "cell_type": "code",
   "execution_count": 88,
   "metadata": {
    "ExecuteTime": {
     "end_time": "2020-06-05T18:46:29.524321Z",
     "start_time": "2020-06-05T18:46:29.515760Z"
    }
   },
   "outputs": [],
   "source": [
    "def grad_desc_plus_error(X, y, max_iterations, alpha, initial_weights=None):\n",
    "    \"\"\"Be sure to set default behavior for the initial_weights parameter.\"\"\"\n",
    " \n",
    "    weights_df = pd.DataFrame(initial_weights)\n",
    "    error_df = pd.DataFrame(initial_weights)\n",
    "    new_weights = initial_weights\n",
    "    # Create a for loop of iterations\n",
    "    for i in range(max_iterations):\n",
    "        # Generate predictions using the current feature weights\n",
    "#         y_hat = X.apply(lambda x : predict_y(x, new_weights), axis=1)\n",
    "        y_hat = sigmoid(predict_y(X,new_weights))\n",
    "        # Calculate an error vector based on these initial predictions and the correct labels\n",
    "        error_vector = y - y_hat\n",
    "        \n",
    "        # Calculate the gradient\n",
    "        # As we saw in the previous lab, calculating the gradient is often the most difficult task.\n",
    "        # Here, your are provided with the closed form solution for the gradient of the log-loss function derived from MLE\n",
    "        # For more details on the derivation, see the additional resources section below.\n",
    "        gradient = np.dot(X.transpose(), error_vector) \n",
    "        \n",
    "        # Update the weight vector take a step of alpha in direction of gradient\n",
    "        new_weights = new_weights + (alpha * gradient)\n",
    "        weights_df = pd.concat([weights_df, pd.DataFrame(new_weights)], axis=1)\n",
    "        error_df = pd.concat([error_df, pd.DataFrame(error_vector)], axis=1)\n",
    "    # Return finalized weights\n",
    "    return new_weights, weights_df, error_df"
   ]
  },
  {
   "cell_type": "code",
   "execution_count": null,
   "metadata": {
    "ExecuteTime": {
     "end_time": "2020-06-05T18:52:18.380385Z",
     "start_time": "2020-06-05T18:47:57.864973Z"
    }
   },
   "outputs": [],
   "source": [
    "weights, weights_df, errors_df = grad_desc_plus_error(X, y, 10**4, 10**-3, initial_weights=np.array([1]*len(X.columns)))\n",
    "weights_df.columns = np.arange(len(weights_df.columns))"
   ]
  },
  {
   "cell_type": "code",
   "execution_count": 91,
   "metadata": {
    "ExecuteTime": {
     "end_time": "2020-06-05T18:53:44.947518Z",
     "start_time": "2020-06-05T18:53:42.060572Z"
    }
   },
   "outputs": [
    {
     "data": {
      "text/html": [
       "<div>\n",
       "<style scoped>\n",
       "    .dataframe tbody tr th:only-of-type {\n",
       "        vertical-align: middle;\n",
       "    }\n",
       "\n",
       "    .dataframe tbody tr th {\n",
       "        vertical-align: top;\n",
       "    }\n",
       "\n",
       "    .dataframe thead th {\n",
       "        text-align: right;\n",
       "    }\n",
       "</style>\n",
       "<table border=\"1\" class=\"dataframe\">\n",
       "  <thead>\n",
       "    <tr style=\"text-align: right;\">\n",
       "      <th></th>\n",
       "      <th>0</th>\n",
       "      <th>1</th>\n",
       "      <th>2</th>\n",
       "      <th>3</th>\n",
       "      <th>4</th>\n",
       "      <th>5</th>\n",
       "      <th>6</th>\n",
       "      <th>7</th>\n",
       "      <th>8</th>\n",
       "      <th>9</th>\n",
       "      <th>...</th>\n",
       "      <th>9991</th>\n",
       "      <th>9992</th>\n",
       "      <th>9993</th>\n",
       "      <th>9994</th>\n",
       "      <th>9995</th>\n",
       "      <th>9996</th>\n",
       "      <th>9997</th>\n",
       "      <th>9998</th>\n",
       "      <th>9999</th>\n",
       "      <th>10000</th>\n",
       "    </tr>\n",
       "  </thead>\n",
       "  <tbody>\n",
       "    <tr>\n",
       "      <td>0</td>\n",
       "      <td>1</td>\n",
       "      <td>0.921824</td>\n",
       "      <td>0.844091</td>\n",
       "      <td>0.766977</td>\n",
       "      <td>0.690725</td>\n",
       "      <td>0.615666</td>\n",
       "      <td>0.542248</td>\n",
       "      <td>0.471051</td>\n",
       "      <td>0.402792</td>\n",
       "      <td>0.338294</td>\n",
       "      <td>...</td>\n",
       "      <td>0.780181</td>\n",
       "      <td>0.780192</td>\n",
       "      <td>0.780203</td>\n",
       "      <td>0.780213</td>\n",
       "      <td>0.780224</td>\n",
       "      <td>0.780235</td>\n",
       "      <td>0.780246</td>\n",
       "      <td>0.780256</td>\n",
       "      <td>0.780267</td>\n",
       "      <td>0.780278</td>\n",
       "    </tr>\n",
       "    <tr>\n",
       "      <td>1</td>\n",
       "      <td>1</td>\n",
       "      <td>0.886965</td>\n",
       "      <td>0.774398</td>\n",
       "      <td>0.662523</td>\n",
       "      <td>0.551665</td>\n",
       "      <td>0.442287</td>\n",
       "      <td>0.335031</td>\n",
       "      <td>0.230757</td>\n",
       "      <td>0.130552</td>\n",
       "      <td>0.035687</td>\n",
       "      <td>...</td>\n",
       "      <td>-1.601634</td>\n",
       "      <td>-1.601638</td>\n",
       "      <td>-1.601641</td>\n",
       "      <td>-1.601645</td>\n",
       "      <td>-1.601648</td>\n",
       "      <td>-1.601651</td>\n",
       "      <td>-1.601655</td>\n",
       "      <td>-1.601658</td>\n",
       "      <td>-1.601662</td>\n",
       "      <td>-1.601665</td>\n",
       "    </tr>\n",
       "    <tr>\n",
       "      <td>2</td>\n",
       "      <td>1</td>\n",
       "      <td>0.978665</td>\n",
       "      <td>0.957571</td>\n",
       "      <td>0.936807</td>\n",
       "      <td>0.916498</td>\n",
       "      <td>0.896810</td>\n",
       "      <td>0.877964</td>\n",
       "      <td>0.860242</td>\n",
       "      <td>0.843990</td>\n",
       "      <td>0.829602</td>\n",
       "      <td>...</td>\n",
       "      <td>2.617718</td>\n",
       "      <td>2.617718</td>\n",
       "      <td>2.617718</td>\n",
       "      <td>2.617719</td>\n",
       "      <td>2.617719</td>\n",
       "      <td>2.617719</td>\n",
       "      <td>2.617719</td>\n",
       "      <td>2.617720</td>\n",
       "      <td>2.617720</td>\n",
       "      <td>2.617720</td>\n",
       "    </tr>\n",
       "    <tr>\n",
       "      <td>3</td>\n",
       "      <td>1</td>\n",
       "      <td>0.948142</td>\n",
       "      <td>0.896567</td>\n",
       "      <td>0.845390</td>\n",
       "      <td>0.794768</td>\n",
       "      <td>0.744918</td>\n",
       "      <td>0.696134</td>\n",
       "      <td>0.648794</td>\n",
       "      <td>0.603371</td>\n",
       "      <td>0.560406</td>\n",
       "      <td>...</td>\n",
       "      <td>-1.951894</td>\n",
       "      <td>-1.951900</td>\n",
       "      <td>-1.951906</td>\n",
       "      <td>-1.951912</td>\n",
       "      <td>-1.951919</td>\n",
       "      <td>-1.951925</td>\n",
       "      <td>-1.951931</td>\n",
       "      <td>-1.951937</td>\n",
       "      <td>-1.951943</td>\n",
       "      <td>-1.951949</td>\n",
       "    </tr>\n",
       "    <tr>\n",
       "      <td>4</td>\n",
       "      <td>1</td>\n",
       "      <td>0.961222</td>\n",
       "      <td>0.922681</td>\n",
       "      <td>0.884469</td>\n",
       "      <td>0.846715</td>\n",
       "      <td>0.809593</td>\n",
       "      <td>0.773338</td>\n",
       "      <td>0.738251</td>\n",
       "      <td>0.704703</td>\n",
       "      <td>0.673119</td>\n",
       "      <td>...</td>\n",
       "      <td>-1.393193</td>\n",
       "      <td>-1.393228</td>\n",
       "      <td>-1.393264</td>\n",
       "      <td>-1.393299</td>\n",
       "      <td>-1.393334</td>\n",
       "      <td>-1.393369</td>\n",
       "      <td>-1.393404</td>\n",
       "      <td>-1.393440</td>\n",
       "      <td>-1.393475</td>\n",
       "      <td>-1.393510</td>\n",
       "    </tr>\n",
       "  </tbody>\n",
       "</table>\n",
       "<p>5 rows × 10001 columns</p>\n",
       "</div>"
      ],
      "text/plain": [
       "   0         1         2         3         4         5         6      \\\n",
       "0      1  0.921824  0.844091  0.766977  0.690725  0.615666  0.542248   \n",
       "1      1  0.886965  0.774398  0.662523  0.551665  0.442287  0.335031   \n",
       "2      1  0.978665  0.957571  0.936807  0.916498  0.896810  0.877964   \n",
       "3      1  0.948142  0.896567  0.845390  0.794768  0.744918  0.696134   \n",
       "4      1  0.961222  0.922681  0.884469  0.846715  0.809593  0.773338   \n",
       "\n",
       "      7         8         9      ...     9991      9992      9993      9994   \\\n",
       "0  0.471051  0.402792  0.338294  ...  0.780181  0.780192  0.780203  0.780213   \n",
       "1  0.230757  0.130552  0.035687  ... -1.601634 -1.601638 -1.601641 -1.601645   \n",
       "2  0.860242  0.843990  0.829602  ...  2.617718  2.617718  2.617718  2.617719   \n",
       "3  0.648794  0.603371  0.560406  ... -1.951894 -1.951900 -1.951906 -1.951912   \n",
       "4  0.738251  0.704703  0.673119  ... -1.393193 -1.393228 -1.393264 -1.393299   \n",
       "\n",
       "      9995      9996      9997      9998      9999      10000  \n",
       "0  0.780224  0.780235  0.780246  0.780256  0.780267  0.780278  \n",
       "1 -1.601648 -1.601651 -1.601655 -1.601658 -1.601662 -1.601665  \n",
       "2  2.617719  2.617719  2.617719  2.617720  2.617720  2.617720  \n",
       "3 -1.951919 -1.951925 -1.951931 -1.951937 -1.951943 -1.951949  \n",
       "4 -1.393334 -1.393369 -1.393404 -1.393440 -1.393475 -1.393510  \n",
       "\n",
       "[5 rows x 10001 columns]"
      ]
     },
     "metadata": {},
     "output_type": "display_data"
    },
    {
     "data": {
      "image/png": "[encoded data removed]",
      "text/plain": [
       "<Figure size 1152x864 with 13 Axes>"
      ]
     },
     "metadata": {
      "needs_background": "light"
     },
     "output_type": "display_data"
    }
   ],
   "source": [
    "errors_df.columns = np.arange(len(errors_df.columns))\n",
    "\n",
    "display(weights_df.head())\n",
    "\n",
    "plt.figure(figsize=(16,12))\n",
    "\n",
    "for i, weight in enumerate(weights):\n",
    "    plt.subplot(3, 5, i+1)\n",
    "    plt.title(X.columns[i])\n",
    "    plt.plot(errors_df.iloc[i].T)\n",
    "    plt.axis('tight')"
   ]
  },
  {
   "cell_type": "markdown",
   "metadata": {},
   "source": [
    "## Additional Resources\n",
    "\n",
    "If you want to see more of the mathematics behind the gradient derivation above, check out section 4.4.1 from the Elements of Statistical Learning which can be found here: https://web.stanford.edu/~hastie/ElemStatLearn//."
   ]
  },
  {
   "cell_type": "markdown",
   "metadata": {},
   "source": [
    "## Summary\n",
    "\n",
    "Congratulations! You just coded logistic regression from the ground up using NumPy! With this, you should have a fairly deep understanding of logistic regression and how the algorithm works! In the upcoming labs, you'll continue to explore this from a few more angles, plotting your data along with the decision boundary for our predictions."
   ]
  }
 ],
 "metadata": {
  "kernelspec": {
   "display_name": "Python 3",
   "language": "python",
   "name": "python3"
  },
  "language_info": {
   "codemirror_mode": {
    "name": "ipython",
    "version": 3
   },
   "file_extension": ".py",
   "mimetype": "text/x-python",
   "name": "python",
   "nbconvert_exporter": "python",
   "pygments_lexer": "ipython3",
   "version": "3.6.9"
  },
  "toc": {
   "base_numbering": 1,
   "nav_menu": {},
   "number_sections": true,
   "sideBar": true,
   "skip_h1_title": false,
   "title_cell": "Table of Contents",
   "title_sidebar": "Contents",
   "toc_cell": false,
   "toc_position": {},
   "toc_section_display": true,
   "toc_window_display": false
  },
  "varInspector": {
   "cols": {
    "lenName": 16,
    "lenType": 16,
    "lenVar": 40
   },
   "kernels_config": {
    "python": {
     "delete_cmd_postfix": "",
     "delete_cmd_prefix": "del ",
     "library": "var_list.py",
     "varRefreshCmd": "print(var_dic_list())"
    },
    "r": {
     "delete_cmd_postfix": ") ",
     "delete_cmd_prefix": "rm(",
     "library": "var_list.r",
     "varRefreshCmd": "cat(var_dic_list()) "
    }
   },
   "types_to_exclude": [
    "module",
    "function",
    "builtin_function_or_method",
    "instance",
    "_Feature"
   ],
   "window_display": false
  }
 },
 "nbformat": 4,
 "nbformat_minor": 2
}
